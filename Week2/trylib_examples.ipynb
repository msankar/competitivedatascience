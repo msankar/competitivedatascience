{
 "cells": [
  {
   "cell_type": "markdown",
   "metadata": {},
   "source": [
    "# Trylib example"
   ]
  },
  {
   "cell_type": "markdown",
   "metadata": {},
   "source": [
    "## RF"
   ]
  },
  {
   "cell_type": "code",
   "execution_count": null,
   "metadata": {
    "collapsed": true
   },
   "outputs": [],
   "source": [
    "param = {'n_estimators': 100,\n",
    "             'criterion' : 'gini',\n",
    "             'max_depth':None,\n",
    "             'max_features' : 'auto',\n",
    "             'min_samples_leaf' : 1,\n",
    "         \n",
    "             'n_jobs':-1,\n",
    "}\n",
    "\n",
    "res = trylib(X,Y,'rf',param,one = False,skf_seed = 12, skf = 10, X_test= X_test).res"
   ]
  },
  {
   "cell_type": "markdown",
   "metadata": {},
   "source": [
    "# ET"
   ]
  },
  {
   "cell_type": "code",
   "execution_count": null,
   "metadata": {
    "collapsed": true
   },
   "outputs": [],
   "source": [
    "param = {'n_estimators': 100,\n",
    "         'criterion' : 'gini',\n",
    "         'max_depth':None,\n",
    "         'max_features' : 'auto',\n",
    "         'min_samples_leaf' : 1,\n",
    "         \n",
    "         'n_jobs':-1,\n",
    "}\n",
    "\n",
    "res = trylib(X,Y,'et',param,one = False,skf_seed = 12, skf = 10, X_test= X_test).res"
   ]
  },
  {
   "cell_type": "markdown",
   "metadata": {},
   "source": [
    "## XGBoost"
   ]
  },
  {
   "cell_type": "code",
   "execution_count": null,
   "metadata": {
    "collapsed": true
   },
   "outputs": [],
   "source": [
    "%%capture --no-stdout --no-display\n",
    "param = {'num_round': 200,\n",
    "         \n",
    "             'seed' : 2441,\n",
    "             'max_depth':4,\n",
    "             'gamma': 0,\n",
    "             'eta':0.02,\n",
    "             'min_child_weight':1,\n",
    "             'silent':1, \n",
    "\n",
    "             'objective':'binary:logistic',\n",
    "             'scale_pos_weight':3,\n",
    "\n",
    "             'subsample' : 0.95,\n",
    "             'colsample_bytree' : 0.2,\n",
    "             #'base_score':Y.mean()\n",
    "           }\n",
    "\n",
    "# Objectives:\n",
    "\n",
    "#  -- 'objective':'binary:logistic',\n",
    "#  -- 'objective':'multi:softprob',\n",
    "#  -- 'objective':'rank:pairwise',\n",
    "#  -- 'objective':'reg:linear',\n",
    "\n",
    "# eval_metrics:\n",
    "\n",
    "#  -- 'eval_metric':'mlogloss',\n",
    "#  -- 'eval_metric':'auc',\n",
    "\n",
    "# num_class:\n",
    "\n",
    "#  -- 'num_class':9\n",
    "\n",
    "res = trylib(X,Y,'xg',param,one = False,skf_seed = 12, skf = 10, X_test= X_test).res"
   ]
  },
  {
   "cell_type": "markdown",
   "metadata": {},
   "source": [
    "## Linear SVC"
   ]
  },
  {
   "cell_type": "code",
   "execution_count": null,
   "metadata": {
    "collapsed": true
   },
   "outputs": [],
   "source": [
    "param = {'C':1.0,\n",
    "         'penalty':'l2',\n",
    "         'loss':'squared_hinge',\n",
    "         'dual':True,\n",
    "         'multi_class':'ovr',\n",
    "         'class_weight': None,\n",
    "         'random_state':329,\n",
    "        }\n",
    "\n",
    "res = trylib(X,Y,'lsvc',param,one = False,skf_seed = 12, skf = 10, X_test= X_test).res"
   ]
  },
  {
   "cell_type": "markdown",
   "metadata": {},
   "source": [
    "## KNN"
   ]
  },
  {
   "cell_type": "code",
   "execution_count": null,
   "metadata": {
    "collapsed": true
   },
   "outputs": [],
   "source": [
    "param = {'n_neighbors':5,\n",
    "         'weights':'uniform',\n",
    "         'metric':'minkowski',\n",
    "        }\n",
    "\n",
    "# weights:\n",
    "\n",
    "# -- 'weights':'uniform'\n",
    "# -- 'weights':'distance'\n",
    "# [callable]\n",
    "\n",
    "# metrics:\n",
    "\n",
    "# -- 'metric':'euclidean'\n",
    "# -- 'metric':'cityblock'\n",
    "# -- 'metric':'canberra'\n",
    "# -- 'metric':'braycurtis'\n",
    "# cosine ? \n",
    "\n",
    "res = trylib(X,Y,'knn',param,one = False,skf_seed = 12, skf = 10, X_test= X_test).res"
   ]
  },
  {
   "cell_type": "markdown",
   "metadata": {},
   "source": [
    "# Holdout validation"
   ]
  },
  {
   "cell_type": "code",
   "execution_count": null,
   "metadata": {
    "collapsed": true
   },
   "outputs": [],
   "source": [
    "%%capture --no-stdout --no-display\n",
    "from sklearn.cross_validation import train_test_split\n",
    "\n",
    "for i in range(4):\n",
    "    x_train, x_ho, y_train, y_ho = train_test_split(X, Y, \n",
    "                                                test_size=0.25, \n",
    "                                                random_state=i)\n",
    "#     x_train  = x_train.values\n",
    "#     x_hohout = x_hohout.values\n",
    "#     y_train  = y_train.values\n",
    "#     y_ho     = y_ho.values\n",
    "    \n",
    "    param = { }\n",
    "    \n",
    "    \n",
    "    res = trylib_r(x_train,y_train,'rf',param,one = True,skf = 5,X_test=x_ho,skf_seed = 12).res\n",
    "\n",
    "    print 'cv ',res['loss']\n",
    "    print 'ho ',RMSE(y_ho,res['pr_test'])    \n",
    "    \n",
    "    #print 'cv classes ', res['accuracy']\n",
    "    #print 'ho classes ', accuracy_score(y_ho,np.argmax(res['pr_test'],axis=1)) "
   ]
  },
  {
   "cell_type": "markdown",
   "metadata": {},
   "source": [
    "# 2 level"
   ]
  },
  {
   "cell_type": "markdown",
   "metadata": {},
   "source": [
    "### 1"
   ]
  },
  {
   "cell_type": "code",
   "execution_count": null,
   "metadata": {
    "collapsed": true
   },
   "outputs": [],
   "source": [
    "%%capture --no-stdout --no-display\n",
    "\n",
    "# X = \n",
    "# Y = \n",
    "# X_test =\n",
    "\n",
    "# ============ \n",
    "y_metas = []\n",
    "y_tests = []\n",
    "\n",
    "xg_param = {'num_round': 50,\n",
    "             'seed' : 21,\n",
    "             'max_depth':3,\n",
    "             'gamma': 0.01,\n",
    "             'eta':0.3,\n",
    "             'min_child_weight':1,\n",
    "             'silent':1, \n",
    "             'objective':'multi:softprob',\n",
    "             'num_round':100,\n",
    "             'num_class' : #9,\n",
    "             'subsample' : 0.8,\n",
    "             'colsample_bytree' : 0.2}\n",
    "\n",
    "clfs = [\n",
    "             ('xg', xg_param),\n",
    "             ('lsvc', {'C' : 100}),\n",
    "             ('knn', {'n_neighbors' : 10 , 'metric': 'canberra'}),\n",
    "             ('knn', {'n_neighbors' : 1 , 'metric': 'canberra'}),\n",
    "             ('nusvc',{'nu' : 0.007}),\n",
    "             ('rf',{'max_features' : 0.01,'n_estimators' : 4000}),\n",
    "             ('rf',{'max_features' : 0.3,'n_estimators' : 4000}),\n",
    "             ('et',{'max_features' : 0.1,'n_estimators' : 4000}),\n",
    "    ]\n",
    "\n",
    "for c in clfs:\n",
    "    print ' ==== ', c[0], ' ====='\n",
    "        \n",
    "    res = trylib(X,Y,c[0],c[1],skf =10, X_test = X_test).res\n",
    "    print \" - %s: log_loss: %f, acc: %f\" %(c[0], res['loss'],res['accuracy'])\n",
    "    y_metas.append(res['pr'])\n",
    "    y_tests.append(res['pr_test'])\n",
    "\n",
    "y_meta = res['y']"
   ]
  },
  {
   "cell_type": "markdown",
   "metadata": {},
   "source": [
    "### 2"
   ]
  },
  {
   "cell_type": "code",
   "execution_count": null,
   "metadata": {
    "collapsed": true
   },
   "outputs": [],
   "source": [
    "%%capture --no-stdout --no-display\n",
    "\n",
    "xg_param = {\n",
    "         'seed' : 21,\n",
    "         'max_depth':3,\n",
    "         'gamma': 0.01,\n",
    "         'eta':0.1,\n",
    "         'silent':1, \n",
    "         'objective':'multi:softprob',\n",
    "         'num_round':200,\n",
    "         'num_class' : 9,\n",
    "         'subsample' : 0.8,\n",
    "         'colsample_bytree' : 0.1}\n",
    "r = None\n",
    "\n",
    "metas = np.hstack(y_metas)\n",
    "test_metas = np.hstack(y_tests)\n",
    "\n",
    "y_out = []\n",
    "for i in range(10):\n",
    "    xg_param['seed'] = (i+34)*15\n",
    "    \n",
    "    res = trylib(metas,y_meta,'xg',xg_param,skf = 10,one = False, X_test= test_metas).res\n",
    "    y_out.append(res['pr_test'])\n",
    "    \n",
    "    if r is None:\n",
    "        r = res['pr']\n",
    "    else:\n",
    "        r += res['pr']\n",
    "    print \"%d %f\" % (i, log_loss(y_val,r/(i+1)))\n",
    "\n",
    "pr_test_final = np.mean(y_out,axis = 0)\n",
    "pr_test_final.shape\n",
    "    \n",
    "#res2 = trylib(np.concatenate([d.values[res['val_index'],:],np.hstack(prs)],axis = 1),y_val,'et',{'max_features' : 0.1,'n_estimators' : 20000, 'compute_importances': True},skf = 10,one = False).res\n",
    "\n",
    "#prs.append(res['pr_val'])\n",
    "#y_val = res['y_val']"
   ]
  },
  {
   "cell_type": "markdown",
   "metadata": {},
   "source": [
    "# CV template"
   ]
  },
  {
   "cell_type": "code",
   "execution_count": null,
   "metadata": {
    "collapsed": true
   },
   "outputs": [],
   "source": [
    "skf = KFold(Y.shape[0], n_folds=10, shuffle=True, random_state=11)\n",
    "\n",
    "for it, (train_index, test_index) in enumerate(skf):\n",
    "    X_train, X_val = X[train_index], X[test_index]\n",
    "    y_train, y_val = Y[train_index], Y[test_index]"
   ]
  }
 ],
 "metadata": {
  "kernelspec": {
   "display_name": "Python 3",
   "language": "python",
   "name": "python3"
  },
  "language_info": {
   "codemirror_mode": {
    "name": "ipython",
    "version": 3
   },
   "file_extension": ".py",
   "mimetype": "text/x-python",
   "name": "python",
   "nbconvert_exporter": "python",
   "pygments_lexer": "ipython3",
   "version": "3.7.6"
  }
 },
 "nbformat": 4,
 "nbformat_minor": 1
}
